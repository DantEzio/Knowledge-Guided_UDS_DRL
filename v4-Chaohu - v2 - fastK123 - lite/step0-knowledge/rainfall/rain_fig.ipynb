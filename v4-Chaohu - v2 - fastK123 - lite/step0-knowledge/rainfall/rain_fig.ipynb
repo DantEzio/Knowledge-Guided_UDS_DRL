{
 "cells": [
  {
   "cell_type": "code",
   "execution_count": 1,
   "metadata": {},
   "outputs": [],
   "source": [
    "import numpy as np\n",
    "import matplotlib.pyplot as plt\n",
    "import os\n",
    "from matplotlib.gridspec import GridSpec"
   ]
  },
  {
   "cell_type": "code",
   "execution_count": null,
   "metadata": {},
   "outputs": [
    {
     "name": "stdout",
     "output_type": "stream",
     "text": [
      "[10, 20, 30, 40, 50, 60, 1, 2, 3, 4]\n"
     ]
    }
   ],
   "source": [
    "rd = np.load(os.path.dirname(os.getcwd())+'\\\\rainfall\\\\normlized_rainfall.npy').tolist()\n",
    "rr = np.load(os.path.dirname(os.getcwd())+'\\\\rainfall\\\\normlized_realrainfall.npy').tolist()\n",
    "\n",
    "design_rainid = [10,20,30,40,50,60]\n",
    "real_rainid = [1,2,3,4]\n",
    "rainid = design_rainid + real_rainid\n",
    "print(rainid)"
   ]
  },
  {
   "cell_type": "code",
   "execution_count": 32,
   "metadata": {},
   "outputs": [],
   "source": [
    "design_rainfall, real_rainfall = {}, {}\n",
    "\n",
    "for i in design_rainid:\n",
    "    design_rainfall['Rain'+str(i)] = []\n",
    "    for it in rd[i]:\n",
    "        design_rainfall['Rain'+str(i)].append(float(it[1]))\n",
    "\n",
    "for i in real_rainid:\n",
    "    real_rainfall['Rain'+str(i)] = []\n",
    "    for it in rr[i-1]:\n",
    "        real_rainfall['Rain'+str(i)].append(float(it[1]))"
   ]
  },
  {
   "cell_type": "code",
   "execution_count": null,
   "metadata": {},
   "outputs": [],
   "source": [
    "rr = np.load('normlized_realrainfall - 副本.npy').tolist()\n",
    "for i in range(4):\n",
    "    for it in range(len(rr[i])):\n",
    "        tem = float(rr[i][it][1])*20\n",
    "        rr[i][it][1] = str(tem)"
   ]
  },
  {
   "cell_type": "code",
   "execution_count": 5,
   "metadata": {},
   "outputs": [],
   "source": [
    "np.save('normlized_realrainfall.npy',rr)"
   ]
  }
 ],
 "metadata": {
  "kernelspec": {
   "display_name": "tensorflow-cpu",
   "language": "python",
   "name": "python3"
  },
  "language_info": {
   "codemirror_mode": {
    "name": "ipython",
    "version": 3
   },
   "file_extension": ".py",
   "mimetype": "text/x-python",
   "name": "python",
   "nbconvert_exporter": "python",
   "pygments_lexer": "ipython3",
   "version": "3.9.19"
  }
 },
 "nbformat": 4,
 "nbformat_minor": 2
}
