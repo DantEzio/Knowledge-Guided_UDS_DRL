{
 "cells": [
  {
   "cell_type": "code",
   "execution_count": 1,
   "metadata": {},
   "outputs": [],
   "source": [
    "import sys \n",
    "sys.path.append(\"..\") \n",
    "\n",
    "import numpy as np\n",
    "import pandas as pd\n",
    "from SWMM import SWMM_ENV\n",
    "from DQN import Buffer\n",
    "from DQN import DQN as DQN\n",
    "import tensorflow as tf\n",
    "import matplotlib.pyplot as plt\n",
    "from joblib import Parallel, delayed\n",
    "import os"
   ]
  },
  {
   "cell_type": "code",
   "execution_count": 2,
   "metadata": {},
   "outputs": [
    {
     "data": {
      "text/plain": [
       "array([ 36.0920561,  71.2160077, 704.2051124])"
      ]
     },
     "execution_count": 2,
     "metadata": {},
     "output_type": "execute_result"
    }
   ],
   "source": [
    "np.load('time.npy',allow_pickle=True)"
   ]
  },
  {
   "cell_type": "code",
   "execution_count": 5,
   "metadata": {},
   "outputs": [],
   "source": [
    "agent_params={\n",
    "    'state_dim':18,\n",
    "    'action_dim':pd.read_csv(os.path.dirname(os.getcwd())+'/SWMM/action_table.csv').values[:,1:].shape[0],\n",
    "\n",
    "    'encoding_layer':[50,50],\n",
    "    'value_layer':[50,50],\n",
    "    'advantage_layer':[50,50],\n",
    "    'num_rain':50,\n",
    "\n",
    "\n",
    "    'train_iterations':10,\n",
    "    'training_step':500,\n",
    "    'gamma':0.01,\n",
    "    'epsilon':0.1,\n",
    "    'ep_min':1e-50,\n",
    "    'ep_decay':0.9,\n",
    "    'learning_rate':0.001,\n",
    "\n",
    "    'action_table':pd.read_csv(os.path.dirname(os.getcwd())+'/SWMM/action_table.csv').values[:,1:],\n",
    "}"
   ]
  },
  {
   "cell_type": "code",
   "execution_count": 17,
   "metadata": {},
   "outputs": [
    {
     "data": {
      "text/plain": [
       "array([[1.    , 0.2366, 0.6508, 0.3523, 1.    , 0.4303],\n",
       "       [1.    , 0.2366, 0.6508, 0.3523, 1.    , 0.1687],\n",
       "       [1.    , 0.2366, 0.6508, 0.1894, 1.    , 0.4303],\n",
       "       [1.    , 0.2366, 0.6508, 0.1894, 1.    , 0.1687],\n",
       "       [1.    , 0.2366, 0.3159, 0.3523, 1.    , 0.4303],\n",
       "       [1.    , 0.2366, 0.3159, 0.3523, 1.    , 0.1687],\n",
       "       [1.    , 0.2366, 0.3159, 0.1894, 1.    , 0.4303],\n",
       "       [1.    , 0.2366, 0.3159, 0.1894, 1.    , 0.1687],\n",
       "       [1.    , 0.1075, 0.6508, 0.3523, 1.    , 0.4303],\n",
       "       [1.    , 0.1075, 0.6508, 0.3523, 1.    , 0.1687],\n",
       "       [1.    , 0.1075, 0.6508, 0.1894, 1.    , 0.4303],\n",
       "       [1.    , 0.1075, 0.6508, 0.1894, 1.    , 0.1687],\n",
       "       [1.    , 0.1075, 0.3159, 0.3523, 1.    , 0.4303],\n",
       "       [1.    , 0.1075, 0.3159, 0.3523, 1.    , 0.1687],\n",
       "       [1.    , 0.1075, 0.3159, 0.1894, 1.    , 0.4303],\n",
       "       [1.    , 0.1075, 0.3159, 0.1894, 1.    , 0.1687]])"
      ]
     },
     "execution_count": 17,
     "metadata": {},
     "output_type": "execute_result"
    }
   ],
   "source": [
    "agent_params['action_table']"
   ]
  },
  {
   "cell_type": "code",
   "execution_count": 18,
   "metadata": {},
   "outputs": [
    {
     "name": "stdout",
     "output_type": "stream",
     "text": [
      "9\n"
     ]
    }
   ],
   "source": [
    "for it in range(agent_params['action_table'].shape[0]):\n",
    "    if (agent_params['action_table'][it] == np.array([1.    , 0.1075, 0.6508, 0.3523, 1.    , 0.1687])).all():\n",
    "        print(it)"
   ]
  },
  {
   "cell_type": "code",
   "execution_count": 19,
   "metadata": {},
   "outputs": [],
   "source": [
    "optdata = np.load(os.path.abspath(os.path.join(os.getcwd(), os.pardir))+'\\\\pretraindata\\\\OPT_results\\\\opt_results_rain1.npy',\n",
    "                                allow_pickle=True).tolist()"
   ]
  },
  {
   "cell_type": "code",
   "execution_count": 21,
   "metadata": {},
   "outputs": [
    {
     "data": {
      "text/plain": [
       "array([10,  7,  3, 10, 10,  6,  4,  5, 15,  5,  2,  4,  4,  5,  0,  4,  5,\n",
       "        9, 12,  9,  7,  6,  2, 11, 10, 15, 11,  8,  7, 10,  5,  8,  8, 11,\n",
       "        8,  5,  2,  5, 13,  4, 14,  7, 14,  3,  1,  3,  3,  4, 10, 11,  9,\n",
       "       10,  5,  7,  8,  6,  3,  0,  3,  1, 11,  8,  0,  4,  9,  4,  2,  7,\n",
       "       12, 10, 14, 10, 10, 13,  8, 11,  8,  9,  8,  8,  7,  3, 12,  2, 13,\n",
       "        7,  1,  9,  3, 10, 12,  7, 13, 12,  8], dtype=int16)"
      ]
     },
     "execution_count": 21,
     "metadata": {},
     "output_type": "execute_result"
    }
   ],
   "source": [
    "optdata['action']"
   ]
  }
 ],
 "metadata": {
  "kernelspec": {
   "display_name": "tensorflow-cpu",
   "language": "python",
   "name": "python3"
  },
  "language_info": {
   "codemirror_mode": {
    "name": "ipython",
    "version": 3
   },
   "file_extension": ".py",
   "mimetype": "text/x-python",
   "name": "python",
   "nbconvert_exporter": "python",
   "pygments_lexer": "ipython3",
   "version": "3.9.19"
  }
 },
 "nbformat": 4,
 "nbformat_minor": 2
}
