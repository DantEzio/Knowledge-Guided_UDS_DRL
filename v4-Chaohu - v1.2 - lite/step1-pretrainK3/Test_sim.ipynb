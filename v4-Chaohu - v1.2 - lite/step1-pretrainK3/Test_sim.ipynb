{
 "cells": [
  {
   "cell_type": "code",
   "execution_count": 1,
   "metadata": {},
   "outputs": [],
   "source": [
    "import numpy as np\n",
    "import pandas as pd\n",
    "from SWMM import SWMM_ENV as SWMM_ENV\n",
    "from PPO import PPO as PPO\n",
    "import datetime\n",
    "import matplotlib.pyplot as plt\n",
    "from joblib import Parallel, delayed\n",
    "import matplotlib.pyplot as plt\n",
    "from swmm_api import read_out_file\n",
    "import os"
   ]
  },
  {
   "cell_type": "markdown",
   "metadata": {},
   "source": [
    "# Rainfalls"
   ]
  },
  {
   "cell_type": "code",
   "execution_count": 2,
   "metadata": {},
   "outputs": [],
   "source": [
    "os.chdir(os.path.pardir)\n",
    "os.chdir('./step0-knowledge/')\n",
    "raindata = np.load('./rainfall/normlized_rainfall.npy',allow_pickle=True).tolist()\n",
    "#exraindata = np.load('./rainfall/normlized_extended_rainfall.npy',allow_pickle=True).tolist()\n",
    "exraindata = np.load('./rainfall/normlized_realrainfall.npy',allow_pickle=True).tolist()\n",
    "os.chdir(os.path.pardir)\n",
    "os.chdir('./step1-pretrainK3/')"
   ]
  },
  {
   "cell_type": "markdown",
   "metadata": {},
   "source": [
    "# Env"
   ]
  },
  {
   "cell_type": "code",
   "execution_count": 3,
   "metadata": {},
   "outputs": [],
   "source": [
    "env_params = {\n",
    "    'orf':'./SWMM/chaohu',\n",
    "    'orf_save':'chaohu_RTC',# opt中使用不同的inp计算，上两个参数没有用到\n",
    "    'parm':'./states_yaml/chaohu',\n",
    "    'advance_seconds':300,\n",
    "    'kf':1,\n",
    "    'kc':1,\n",
    "    'reward_type':'3',\n",
    "}\n",
    "env3=SWMM_ENV.SWMM_ENV(env_params)"
   ]
  },
  {
   "cell_type": "markdown",
   "metadata": {},
   "source": [
    "# PPO results"
   ]
  },
  {
   "cell_type": "code",
   "execution_count": 4,
   "metadata": {},
   "outputs": [],
   "source": [
    "def PPO_interact(model,i,env,raindata):\n",
    "    observation, episode_return, episode_length = env.reset(raindata,i,False,os.getcwd()), 0, 0\n",
    "    done, t= False, 0\n",
    "    while not done:\n",
    "        observation = np.array(observation).reshape(1, -1)\n",
    "        logits, action = PPO.sample_action(observation,model,False)\n",
    "        at=model.action_table[int(action[0].numpy())].tolist()\n",
    "        observation_new,reward,results,done = env.step(at)\n",
    "        observation = observation_new\n",
    "    return env.results"
   ]
  },
  {
   "cell_type": "code",
   "execution_count": 5,
   "metadata": {},
   "outputs": [],
   "source": [
    "agent_params={\n",
    "    'state_dim':len(env3.config['states']),\n",
    "    'action_dim':pd.read_csv('./SWMM/action_table.csv').values[:,1:].shape[0],\n",
    "    'actornet_layer':[50,50,50],\n",
    "    'criticnet_layer':[50,50,50],\n",
    "    \n",
    "    'bound_low':0,\n",
    "    'bound_high':1,\n",
    "    \n",
    "    'clip_ratio':0.01,\n",
    "    'target_kl':0.03,\n",
    "    'lam':0.01,\n",
    "    \n",
    "    'policy_learning_rate':0.001,\n",
    "    'value_learning_rate':0.001,\n",
    "    'train_policy_iterations':5,\n",
    "    'train_value_iterations':5,\n",
    "    \n",
    "    'num_rain':50,\n",
    "    \n",
    "    'training_step':1001,\n",
    "    'gamma':0.3,\n",
    "    'epsilon':1,\n",
    "    'ep_min':1e-50,\n",
    "    'ep_decay':0.1,\n",
    "\n",
    "    'action_table':pd.read_csv('SWMM/action_table.csv').values[:,1:],\n",
    "}\n",
    "\n",
    "model3 = PPO.PPO(agent_params)\n",
    "#model3.load_model('Results_PPO_reward3/model')\n",
    "model3.critic.load_weights('Results_PPO_reward3/model'+'/PPOcritic100.h5') # 50\n",
    "model3.actor.load_weights('Results_PPO_reward3/model'+'/PPOactor100.h5') # 50"
   ]
  },
  {
   "cell_type": "code",
   "execution_count": 6,
   "metadata": {},
   "outputs": [],
   "source": [
    "# the first 4 rainfalls and real rainfalls, results_PPO_1, results_PPO_2, results_PPO_3\n",
    "for i in range(91):\n",
    "    #results_PPO_r1['rainfall'+str(i)] = {}\n",
    "    #results_PPO_r2['rainfall'+str(i)] = {}\n",
    "    results_PPO_r3 = PPO_interact(model3,i,env3,raindata)\n",
    "    np.save('./results/ppo_results_rain'+str(i)+'.npy',results_PPO_r3)\n",
    "\n",
    "# extended rainfall\n",
    "for i in range(len(exraindata)):\n",
    "    #results_PPO_r1['rainfall'+str(i)] = {}\n",
    "    #results_PPO_r2['rainfall'+str(i)] = {}\n",
    "    results_PPO_r3 = PPO_interact(model3,i,env3,exraindata)\n",
    "    np.save('./results/extended_ppo_results_rain'+str(i)+'.npy',results_PPO_r3)"
   ]
  },
  {
   "cell_type": "code",
   "execution_count": 6,
   "metadata": {},
   "outputs": [],
   "source": [
    "# real rainfall\n",
    "for i in range(len(exraindata)):\n",
    "    #results_PPO_r1['rainfall'+str(i)] = {}\n",
    "    #results_PPO_r2['rainfall'+str(i)] = {}\n",
    "    results_PPO_r3 = PPO_interact(model3,i,env3,exraindata)\n",
    "    np.save('./results/real_ppo_results_rain'+str(i)+'.npy',results_PPO_r3)"
   ]
  },
  {
   "cell_type": "markdown",
   "metadata": {},
   "source": [
    "# Check results"
   ]
  },
  {
   "cell_type": "code",
   "execution_count": 7,
   "metadata": {},
   "outputs": [
    {
     "data": {
      "text/plain": [
       "[<matplotlib.lines.Line2D at 0x20d086f5250>]"
      ]
     },
     "execution_count": 7,
     "metadata": {},
     "output_type": "execute_result"
    },
    {
     "data": {
      "image/png": "[encoded data removed]",
      "text/plain": [
       "<Figure size 640x480 with 1 Axes>"
      ]
     },
     "metadata": {},
     "output_type": "display_data"
    }
   ],
   "source": [
    "plt.plot(results_PPO_r3['flooding'])"
   ]
  }
 ],
 "metadata": {
  "kernelspec": {
   "display_name": "tensorflow-cpu",
   "language": "python",
   "name": "python3"
  },
  "language_info": {
   "codemirror_mode": {
    "name": "ipython",
    "version": 3
   },
   "file_extension": ".py",
   "mimetype": "text/x-python",
   "name": "python",
   "nbconvert_exporter": "python",
   "pygments_lexer": "ipython3",
   "version": "3.9.19"
  }
 },
 "nbformat": 4,
 "nbformat_minor": 2
}
