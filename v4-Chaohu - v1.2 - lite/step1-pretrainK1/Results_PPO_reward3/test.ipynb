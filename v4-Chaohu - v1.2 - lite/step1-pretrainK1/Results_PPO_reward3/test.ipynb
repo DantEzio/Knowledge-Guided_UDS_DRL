{
 "cells": [
  {
   "cell_type": "code",
   "execution_count": 1,
   "metadata": {},
   "outputs": [],
   "source": [
    "import sys \n",
    "sys.path.append(\"..\") \n",
    "\n",
    "import numpy as np\n",
    "import pandas as pd\n",
    "from SWMM import SWMM_ENV\n",
    "from PPO import Buffer\n",
    "from PPO import PPO as PPO\n",
    "import tensorflow as tf\n",
    "import matplotlib.pyplot as plt\n",
    "from joblib import Parallel, delayed\n",
    "import matplotlib.pyplot as plt\n",
    "import os"
   ]
  },
  {
   "cell_type": "code",
   "execution_count": 2,
   "metadata": {},
   "outputs": [
    {
     "data": {
      "text/plain": [
       "array([ 332.8678901,  662.0102699, 6740.517343 ])"
      ]
     },
     "execution_count": 2,
     "metadata": {},
     "output_type": "execute_result"
    }
   ],
   "source": [
    "np.load('time.npy',allow_pickle=True)"
   ]
  },
  {
   "cell_type": "code",
   "execution_count": 2,
   "metadata": {},
   "outputs": [
    {
     "data": {
      "text/plain": [
       "(16, 6)"
      ]
     },
     "execution_count": 2,
     "metadata": {},
     "output_type": "execute_result"
    }
   ],
   "source": [
    "pd.read_csv(os.path.dirname(os.getcwd())+'/SWMM/action_table.csv').values[:,1:].shape"
   ]
  },
  {
   "cell_type": "code",
   "execution_count": 6,
   "metadata": {},
   "outputs": [],
   "source": [
    "env_params={\n",
    "        'orf':os.path.dirname(os.getcwd())+'/SWMM/chaohu',\n",
    "        'orf_save':'chaohu_RTC',\n",
    "        'parm':os.path.dirname(os.getcwd())+'/states_yaml/chaohu',\n",
    "        'advance_seconds':300,\n",
    "        'kf':1,\n",
    "        'kc':1,\n",
    "        'reward_type':'3'\n",
    "    }\n",
    "env=SWMM_ENV.SWMM_ENV(env_params)\n",
    "agent_params={\n",
    "    'state_dim':len(env.config['states']),\n",
    "    'action_dim':int(2**len(env.config['action_assets'])),\n",
    "    'actornet_layer':[30,30,30],\n",
    "    'criticnet_layer':[30,30,30],\n",
    "    \n",
    "    'bound_low':0,\n",
    "    'bound_high':1,\n",
    "    \n",
    "    'clip_ratio':0.01,\n",
    "    'target_kl':0.03,\n",
    "    'lam':0.01,\n",
    "    \n",
    "    'policy_learning_rate':0.005,\n",
    "    'value_learning_rate':0.005,\n",
    "    'train_policy_iterations':20,\n",
    "    'train_value_iterations':20,\n",
    "    \n",
    "    'num_rain':50,\n",
    "    \n",
    "    'training_step':1000,\n",
    "    'gamma':0.3,\n",
    "    'epsilon':1,\n",
    "    'ep_min':1e-50,\n",
    "    'ep_decay':0.1,\n",
    "\n",
    "    'action_table':pd.read_csv(os.path.dirname(os.getcwd())+'/SWMM/action_table.csv').values[:,1:],\n",
    "}"
   ]
  },
  {
   "cell_type": "code",
   "execution_count": 3,
   "metadata": {},
   "outputs": [],
   "source": [
    "optdata = np.load(os.path.abspath(os.path.join(os.getcwd(), os.pardir))+'\\\\pretraindata\\\\OPT_results\\\\opt_results_rain'+str(0)+'.npy',\n",
    "                        allow_pickle=True).tolist()\n",
    "o=optdata['state'][1:-2]"
   ]
  },
  {
   "cell_type": "code",
   "execution_count": 8,
   "metadata": {},
   "outputs": [],
   "source": [
    "raindata = np.load(os.path.dirname(os.getcwd())+'/rainfall/training_raindata.npy').tolist()\n",
    "observation, episode_return, episode_length = env.reset(raindata[0],0,True,os.path.dirname(os.getcwd())), 0, 0"
   ]
  },
  {
   "cell_type": "code",
   "execution_count": 11,
   "metadata": {},
   "outputs": [
    {
     "data": {
      "text/plain": [
       "<tf.Tensor: shape=(1,), dtype=float32, numpy=array([0.5958906], dtype=float32)>"
      ]
     },
     "execution_count": 11,
     "metadata": {},
     "output_type": "execute_result"
    }
   ],
   "source": [
    "observation = np.array(observation).reshape(1, -1)\n",
    "tem_model.critic(np.array(observation))"
   ]
  },
  {
   "cell_type": "code",
   "execution_count": 17,
   "metadata": {},
   "outputs": [],
   "source": [
    "res = []\n",
    "tem_model = PPO.PPO(agent_params)\n",
    "tem_model.load_model('./model/')\n",
    "tem_model.params['epsilon']=tem_model.params['epsilon']\n",
    "for rainid in range(50):\n",
    "    episode_return, episode_length = 0, 0\n",
    "    optdata = np.load(os.path.abspath(os.path.join(os.getcwd(), os.pardir))+'\\\\pretraindata\\\\OPT_results\\\\opt_results_rain'+str(rainid)+'.npy',\n",
    "                        allow_pickle=True).tolist()\n",
    "    o=optdata['state'][1:-2]\n",
    "    a=optdata['action'][1:-1]\n",
    "    r=optdata['rewards'][1:-2]\n",
    "    o_=optdata['state'][2:-1]\n",
    "    last_value=0\n",
    "    vt, lo = [], []\n",
    "    for observation in o:\n",
    "        value_t = tem_model.critic(np.array(observation).reshape(1, -1)).numpy()[0]\n",
    "        logits, action = PPO.sample_action(np.array(observation).reshape(1, -1),tem_model,True)\n",
    "        logprobability_t = PPO.logprobabilities(logits, action, tem_model.params['action_dim']).numpy()[0]\n",
    "        vt.append(value_t)\n",
    "        lo.append(logprobability_t)\n",
    "\n",
    "    episode_return += np.sum(r)\n",
    "    episode_length += len(r)\n",
    "    res.append([o,a,r,vt,lo,last_value,episode_return,episode_length])"
   ]
  },
  {
   "cell_type": "code",
   "execution_count": 19,
   "metadata": {},
   "outputs": [
    {
     "data": {
      "text/plain": [
       "[-0.01837119,\n",
       " -0.021702426,\n",
       " -0.0034974378,\n",
       " -0.0032056395,\n",
       " -0.0031552552,\n",
       " -0.00437256,\n",
       " -0.0060556983,\n",
       " -5.6327815,\n",
       " -0.019726405,\n",
       " -0.26338056,\n",
       " -7.0358706,\n",
       " -0.006602141,\n",
       " -0.0063394406,\n",
       " -0.012600571,\n",
       " -0.013280506,\n",
       " -0.51601565,\n",
       " -0.017824585,\n",
       " -0.02092535,\n",
       " -0.022957142,\n",
       " -9.108603,\n",
       " -0.023903985,\n",
       " -0.02692147,\n",
       " -0.032211192,\n",
       " -0.031648885,\n",
       " -0.039366238,\n",
       " -0.023903985,\n",
       " -0.032960285,\n",
       " -0.05086006,\n",
       " -0.058366355,\n",
       " -0.048965853,\n",
       " -0.048965853,\n",
       " -0.031648885,\n",
       " -0.025936361,\n",
       " -0.025936361,\n",
       " -0.025232432,\n",
       " -0.025232665,\n",
       " -0.025232665,\n",
       " -0.077420704,\n",
       " -0.13729374,\n",
       " -0.07970145,\n",
       " -0.40908134,\n",
       " -0.010059493,\n",
       " -0.18460067,\n",
       " -0.031424798,\n",
       " -0.007274805,\n",
       " -0.006338019,\n",
       " -0.22126018,\n",
       " -0.04413114,\n",
       " -0.10706564,\n",
       " -0.054227374,\n",
       " -0.05272694,\n",
       " -0.051785275,\n",
       " -0.019901244,\n",
       " -0.010296559,\n",
       " -0.0074306536,\n",
       " -0.021576319,\n",
       " -0.36276004,\n",
       " -0.051710453,\n",
       " -0.4284015,\n",
       " -0.37766033,\n",
       " -0.12961148,\n",
       " -0.016129367,\n",
       " -0.008164128,\n",
       " -0.0073886467,\n",
       " -10.02993,\n",
       " -0.026603112,\n",
       " -0.042337492,\n",
       " -0.121897824,\n",
       " -0.73595524,\n",
       " -4.7234,\n",
       " -1.1639591,\n",
       " -4.251501,\n",
       " -0.59863573,\n",
       " -0.42673603,\n",
       " -0.46458322,\n",
       " -0.7340767,\n",
       " -4.5927167,\n",
       " -3.432218,\n",
       " -4.661648,\n",
       " -4.125639,\n",
       " -1.9399285,\n",
       " -2.1842256,\n",
       " -4.5935287,\n",
       " -4.7781067,\n",
       " -4.6610785,\n",
       " -5.757222,\n",
       " -4.6196117,\n",
       " -1.3870566,\n",
       " -1.4555761,\n",
       " -5.1559677,\n",
       " -4.5869784,\n",
       " -4.315124,\n",
       " -2.8634145]"
      ]
     },
     "execution_count": 19,
     "metadata": {},
     "output_type": "execute_result"
    }
   ],
   "source": [
    "res[0][4]"
   ]
  }
 ],
 "metadata": {
  "kernelspec": {
   "display_name": "tensorflow-cpu",
   "language": "python",
   "name": "python3"
  },
  "language_info": {
   "codemirror_mode": {
    "name": "ipython",
    "version": 3
   },
   "file_extension": ".py",
   "mimetype": "text/x-python",
   "name": "python",
   "nbconvert_exporter": "python",
   "pygments_lexer": "ipython3",
   "version": "3.9.19"
  }
 },
 "nbformat": 4,
 "nbformat_minor": 2
}
