{
 "cells": [
  {
   "cell_type": "code",
   "execution_count": 1,
   "metadata": {},
   "outputs": [],
   "source": [
    "import numpy as np\n",
    "import pandas as pd\n",
    "from SWMM import SWMM_ENV as SWMM_ENV\n",
    "from HC import HC as HC\n",
    "import datetime\n",
    "import matplotlib.pyplot as plt\n",
    "from joblib import Parallel, delayed\n",
    "import matplotlib.pyplot as plt\n",
    "import os\n",
    "import yaml\n",
    "\n",
    "import datetime\n",
    "\n",
    "from MPC import pso\n",
    "import pyswmm\n",
    "from swmm_api.input_file import read_inp_file\n",
    "from pyswmm import Simulation,Links,Nodes,RainGages,SystemStats\n",
    "from swmm_api.input_file.sections.others import TimeseriesData\n",
    "from swmm_api.input_file.sections import Control\n",
    "from swmm_api.input_file.section_labels import TIMESERIES, CONTROLS\n",
    "from swmm_api import read_rpt_file, SwmmReport"
   ]
  },
  {
   "cell_type": "markdown",
   "metadata": {},
   "source": [
    "# Rainfall"
   ]
  },
  {
   "cell_type": "code",
   "execution_count": 2,
   "metadata": {},
   "outputs": [],
   "source": [
    "rain1 = np.load('rainfall\\\\real_rainfall\\\\rain1.npy').tolist()\n",
    "rain2 = np.load('rainfall\\\\real_rainfall\\\\rain2.npy').tolist()\n",
    "rain3 = np.load('rainfall\\\\real_rainfall\\\\rain3.npy').tolist()\n",
    "rain4 = np.load('rainfall\\\\real_rainfall\\\\rain4.npy').tolist()\n",
    "raindata={'1':rain1, '2':rain2, '3':rain3, '4':rain4} #four rainuages"
   ]
  },
  {
   "cell_type": "code",
   "execution_count": 3,
   "metadata": {},
   "outputs": [
    {
     "name": "stdout",
     "output_type": "stream",
     "text": [
      "[10, 20, 30, 40, 50, 55, 60, 65, 70, 80]\n"
     ]
    }
   ],
   "source": [
    "test_rainfall_id = [10,20,30,40,50,55,60,65,70,80]\n",
    "np.save('./rainfall/testRainID.npy',test_rainfall_id)\n",
    "\n",
    "test_rainfall_id = np.load('./rainfall/testRainID.npy',allow_pickle=True).tolist()\n",
    "print(test_rainfall_id)"
   ]
  },
  {
   "cell_type": "markdown",
   "metadata": {},
   "source": [
    "# 寻优使用模型，给定降雨，带入swmm，最优化调整全程控制"
   ]
  },
  {
   "cell_type": "markdown",
   "metadata": {},
   "source": [
    "## 优化计算使用函数"
   ]
  },
  {
   "cell_type": "code",
   "execution_count": 4,
   "metadata": {},
   "outputs": [],
   "source": [
    "def step_results(sim,config,params,results):\n",
    "    \n",
    "    #获取模拟结果\n",
    "    nodes = Nodes(sim)\n",
    "    links = Links(sim)\n",
    "    rgs = RainGages(sim)\n",
    "    sys = SystemStats(sim)\n",
    "\n",
    "    #obtain states and reward term by yaml (config)\n",
    "    states = []\n",
    "    for _temp in config[\"states\"]:\n",
    "        if _temp[1] == 'depthN':\n",
    "            states.append(nodes[_temp[0]].depth)\n",
    "        elif _temp[1] == 'flow':\n",
    "            states.append(links[_temp[0]].flow)\n",
    "        elif _temp[1] == 'inflow':\n",
    "            states.append(nodes[_temp[0]].total_inflow)\n",
    "        else:\n",
    "            states.append(rgs[_temp[0]].rainfall)\n",
    "        \n",
    "    #获取reward和结果\n",
    "    results, reward = SWMM_ENV.get_step_results(results,nodes,links,rgs,sys,config,params)\n",
    "    results['state'].append(states)\n",
    "    results['rewards'].append(reward)\n",
    "    #results['action'].append(action)\n",
    "      \n",
    "    return states,reward,results\n",
    "\n",
    "def trans_action(data):    \n",
    "    ts = []\n",
    "    for i in range(len(data)):\n",
    "        t = i\n",
    "        key = '01/01/2000 '+str(8+t*5//60).zfill(2)+':'+str((t*5) % 60).zfill(2)+':'+'00'\n",
    "        ts.append([key,data[i]])\n",
    "    return ts"
   ]
  },
  {
   "cell_type": "code",
   "execution_count": 5,
   "metadata": {},
   "outputs": [],
   "source": [
    "class PSO(object):\n",
    "    def __init__(self, population_size, \n",
    "                       max_steps, \n",
    "                       calculate_fitness,\n",
    "                       control_d, w, c,\n",
    "                       x_bound,\n",
    "                       rainid,rainname,config,env_params,pop_param):\n",
    "        self.w = w  # 惯性权重\n",
    "        self.c1 = self.c2 = c  # 加速常数\n",
    "        self.population_size = population_size  # 粒子群数量\n",
    "        self.dim = control_d  # 搜索空间的维度\n",
    "        self.max_steps = max_steps  # 迭代次数\n",
    "        #self.x_bound = [-1, 1]  # 解空间范围\n",
    "        # 使用上一时刻数据限定解空间范围\n",
    "        self.x_bound = x_bound\n",
    "        self.x = np.random.randint(0,self.x_bound,\n",
    "                                   (self.population_size, self.dim))  # 初始化粒子群位置\n",
    "        self.v = np.random.rand(self.population_size, self.dim)  # 初始化粒子群速度\n",
    "\n",
    "        self.calculate_fitness=calculate_fitness\n",
    "        self.rainid, self.rainname, self.config, self.env_params, self.pop_param = rainid, rainname,config,env_params,pop_param\n",
    "        fitness = np.array(self.calculate_fitness(self.x,\n",
    "                                             self.rainid,\n",
    "                                             self.rainname,\n",
    "                                             self.config,\n",
    "                                             self.env_params,\n",
    "                                             self.pop_param))\n",
    "        self.p = self.x.copy()  # 个体的最佳位置\n",
    "        self.pg = self.x[np.argmax(fitness)]  # 全局最佳位置\n",
    "        self.individual_best_fitness = fitness  # 个体的最优适应度\n",
    "        self.global_best_fitness = np.max(fitness)  # 全局最佳适应度\n",
    "\n",
    "    def evolve(self):\n",
    "        self.best_fit_curv=[]\n",
    "        for step in range(self.max_steps):\n",
    "            r1 = np.random.rand(self.population_size,self.dim)\n",
    "            r2 = np.random.rand(self.population_size,self.dim)\n",
    "            # 更新速度和权重\n",
    "            self.v = self.w * self.v + self.c1 * r1 * (self.p - self.x) + self.c2 * r2 * (self.pg - self.x)\n",
    "            self.x = np.int16(np.round(np.clip(self.v[0] + self.x, 0, self.x_bound)))\n",
    "            fitness = np.array(self.calculate_fitness(self.x,\n",
    "                                             self.rainid,\n",
    "                                             self.rainname,\n",
    "                                             self.config,\n",
    "                                             self.env_params,\n",
    "                                             self.pop_param))\n",
    "            # 需要更新的个体\n",
    "            update_id = np.greater(fitness,self.individual_best_fitness)\n",
    "            self.p[update_id] = self.x[update_id]\n",
    "            self.individual_best_fitness[update_id] = fitness[update_id]\n",
    "            # 新一代出现了更大的fitness，所以更新全局最优fitness和位置\n",
    "            if np.max(fitness)> self.global_best_fitness:\n",
    "                self.pg = self.x[np.argmax(fitness)]    \n",
    "                self.global_best_fitness = np.max(fitness)\n",
    "            self.best_fit_curv.append(self.global_best_fitness)\n",
    "            \n",
    "            #渐进终止条件\n",
    "            if step>50:\n",
    "                if np.sum(self.best_fit_curv[-10:])-np.sum(self.best_fit_curv[-20:-10])<0.00001:\n",
    "                    break\n",
    "        np.save('./OPT_results/opt_curve_'+self.rainname+str(self.rainid),self.best_fit_curv)"
   ]
  },
  {
   "cell_type": "code",
   "execution_count": 6,
   "metadata": {},
   "outputs": [],
   "source": [
    "def calobjValue_mp(actions_set,rainid,rainname,config,env_params,pop_param):\n",
    "    action_table = pd.read_csv(os.getcwd()+'\\\\SWMM\\\\action_table.csv').values[:,1:]\n",
    "\n",
    "    def interact(at,coreid,rainid,rainname,config,env_params):\n",
    "\n",
    "        results = {'CSO':[0], \n",
    "            'flooding':[0], \n",
    "            'inflow':[0],\n",
    "            'total_flooding_time':[0], \n",
    "            'total_CSO_time':[0],\n",
    "            'res':[0],\n",
    "            'state':[0],\n",
    "            'action':[0], \n",
    "            'rewards':[0],\n",
    "            'rewardSs':[0]\n",
    "        }\n",
    "        \n",
    "        # 带有降雨和coreid的inp\n",
    "        inp = read_inp_file('./SWMM/_temopt_original/chaohu_core' + str(coreid) + '_' + rainname + str(rainid)+'.inp')\n",
    "        # action转化为inp使用的action，action放入SWMM（mp）\n",
    "        ta={}\n",
    "        for i in range(6):\n",
    "            ta['pump'+str(i)] = []\n",
    "            for t in at:\n",
    "                pump_action = action_table[t].tolist()\n",
    "                ta['pump'+str(i)].append(pump_action[i])\n",
    "            inp[TIMESERIES]['pump'+str(i)]=TimeseriesData('pump'+str(i),trans_action(ta['pump'+str(i)]))\n",
    "        \n",
    "        inp.write_file('./SWMM/_temopt/chaohu_core' + str(coreid) + '_' + rainname + str(rainid)+'.inp')\n",
    "        sim_tem = Simulation('./SWMM/_temopt/chaohu_core' + str(coreid) + '_' + rainname + str(rainid)+'.inp')\n",
    "        # 读取模拟\n",
    "        sim_tem.start()\n",
    "        for step in range(95):\n",
    "            sim_tem._model.swmm_stride(env_params['advance_seconds'])\n",
    "            states,reward,results = step_results(sim_tem,config,env_params,results)\n",
    "        sim_tem._model.swmm_end()\n",
    "        sim_tem._model.swmm_close()\n",
    "        # 统计评分\n",
    "        reward = np.sum(results['rewards'])\n",
    "        return reward\n",
    "    \n",
    "    obj_value = Parallel(n_jobs=pop_param['pop_size'])(delayed(interact)(actions_set[i],i,rainid,rainname,config,env_params) for i in range(len(actions_set)))\n",
    "    #obj_value = []\n",
    "    #print(actions_set[0])\n",
    "    #for i in range(pop_param['pop_size']):\n",
    "    #    obj_value.append(interact(actions_set[:,i],i,rainid,rainname,config,env_params))\n",
    "    return obj_value\n",
    "\n",
    "\n",
    "def opt(rainid,rainname,pop_param,config,env_params):\n",
    "    pso_obj = PSO(pop_param['pop_size'],\n",
    "                  pop_param['optstep'],\n",
    "                  calobjValue_mp,\n",
    "                  95,0.6,0.5,\n",
    "                  pop_param['max_value'],\n",
    "                  rainid,rainname,config,env_params,pop_param)\n",
    "\n",
    "    pso_obj.evolve()\n",
    "    best_individual, best_fit = pso_obj.pg, pso_obj.global_best_fitness\n",
    "    return best_individual, best_fit"
   ]
  },
  {
   "cell_type": "code",
   "execution_count": 7,
   "metadata": {},
   "outputs": [],
   "source": [
    "def save_actionOPT(best_individual):\n",
    "    action = []\n",
    "    action_table = pd.read_csv(os.getcwd()+'\\\\SWMM\\\\action_table.csv').values[:,1:]\n",
    "    for it in best_individual:\n",
    "        action.append(action_table[it].tolist())\n",
    "    \n",
    "    return action"
   ]
  },
  {
   "cell_type": "code",
   "execution_count": 8,
   "metadata": {},
   "outputs": [],
   "source": [
    "class MPC_sim:\n",
    "\n",
    "    def __init__(self,rainid,rainname,env_params,pop_param,config):\n",
    "        self.rainid,self.rainname = rainid, rainname\n",
    "        self.action_table = pd.read_csv(os.getcwd()+'\\\\SWMM\\\\action_table.csv').values[:,1:]\n",
    "        self.env_params = env_params\n",
    "        self.pop_param = pop_param\n",
    "        self.config = config\n",
    "    \n",
    "    def reset(self,rules):\n",
    "        # 初始化\n",
    "        inp = read_inp_file('./SWMM/Astlingen_SWMM.inp')\n",
    "        #加入降雨\n",
    "        for i in range(1,5):\n",
    "            inp[TIMESERIES]['rainfall'+str(i)]=TimeseriesData('rainfall'+str(i),raindata[str(i)][self.rainid])\n",
    "\n",
    "        #加入控制title\n",
    "        control_section = Control.create_section(rules)\n",
    "        inp[CONTROLS]=control_section\n",
    "        # 用于优化的inp\n",
    "        for coreid in range(15):\n",
    "            inp.write_file('./SWMM/_temopt_original/chaohu_core' + str(coreid) + '_' + self.rainname + str(self.rainid)+'.inp')\n",
    "        \n",
    "        # 用于最终模拟的inp\n",
    "        inp.write_file('./SWMM/_temopt_original/chaohu_' + self.rainname + str(self.rainid)+'.inp')\n",
    "\n",
    "\n",
    "    def opt_mp(self):\n",
    "        # 读取模型开始优化调整action\n",
    "        best_individual, best_fit = opt(self.rainid,self.rainname,self.pop_param,self.config,self.env_params)\n",
    "\n",
    "        # 输出带action的input，并模拟，并保存结果\n",
    "        # 带有降雨和coreid的inp\n",
    "        inp = read_inp_file('./SWMM/_temopt_original/chaohu_' + self.rainname + str(self.rainid)+'.inp')\n",
    "        # action转化为inp使用的action，action放入SWMM（mp）\n",
    "        ta={}\n",
    "        for i in range(6):\n",
    "            ta['pump'+str(i)] = []\n",
    "            for t in best_individual:\n",
    "                pump_action = self.action_table[t].tolist()\n",
    "                ta['pump'+str(i)].append(pump_action[i])\n",
    "        for i in range(6):\n",
    "            inp[TIMESERIES]['pump'+str(i)]=TimeseriesData('pump'+str(i),trans_action(ta['pump'+str(i)]))\n",
    "        \n",
    "        inp.write_file('./SWMM/_temopt_original/Sim_chaohu_'+self.rainname+str(self.rainid)+'.inp')\n",
    "        # 读取模拟,获取评分结果\n",
    "        results = {'CSO':[0], \n",
    "            'flooding':[0], \n",
    "            'inflow':[0],\n",
    "            'total_flooding_time':[0], \n",
    "            'total_CSO_time':[0],\n",
    "            'res':[0],\n",
    "            'state':[0],\n",
    "            'action':[0], \n",
    "            'rewards':[0],\n",
    "            'rewardSs':[0]\n",
    "        }\n",
    "        sim_tem = Simulation('./SWMM/_temopt_original/Sim_chaohu_'+self.rainname+str(self.rainid)+'.inp')\n",
    "        sim_tem.start()\n",
    "        for step in range(95):\n",
    "            sim_tem._model.swmm_stride(self.env_params['advance_seconds'])\n",
    "            states,reward,results = step_results(sim_tem,self.config,self.env_params,results)\n",
    "        results['action']=save_actionOPT(best_individual)\n",
    "        sim_tem._model.swmm_end()\n",
    "        sim_tem._model.swmm_close()\n",
    "\n",
    "        return results"
   ]
  },
  {
   "cell_type": "markdown",
   "metadata": {},
   "source": [
    "## 相关参数与控制设置"
   ]
  },
  {
   "cell_type": "code",
   "execution_count": 9,
   "metadata": {},
   "outputs": [],
   "source": [
    "rules = \"\"\"\n",
    "RULE R0\n",
    "IF SIMULATION TIME > 0\n",
    "THEN ORIFICE V1 SETTING = TIMESERIES pump0\n",
    "\n",
    "RULE R1\n",
    "IF SIMULATION TIME > 0\n",
    "THEN ORIFICE V2 SETTING = TIMESERIES pump1\n",
    "\n",
    "RULE R2\n",
    "IF SIMULATION TIME > 0\n",
    "THEN ORIFICE V3 SETTING = TIMESERIES pump2\n",
    "\n",
    "RULE R3\n",
    "IF SIMULATION TIME > 0\n",
    "THEN ORIFICE V4 SETTING = TIMESERIES pump3\n",
    "\n",
    "RULE R4\n",
    "IF SIMULATION TIME > 0\n",
    "THEN ORIFICE V5 SETTING = TIMESERIES pump4\n",
    "\n",
    "RULE R5\n",
    "IF SIMULATION TIME > 0\n",
    "THEN ORIFICE V6 SETTING = TIMESERIES pump5\n",
    "\"\"\""
   ]
  },
  {
   "cell_type": "code",
   "execution_count": 16,
   "metadata": {},
   "outputs": [],
   "source": [
    "# env参数\n",
    "st = 'SWMM\\\\Astlingen'\n",
    "\n",
    "env_params = {\n",
    "    'orf':st,\n",
    "    'orf_save':'Astlingen_RTC',# opt中使用不同的inp计算，上两个参数没有用到\n",
    "    'parm':'states_yaml\\\\Astlingen',\n",
    "    'advance_seconds':300,\n",
    "    'kf':1,\n",
    "    'kc':1,\n",
    "    'reward_type':'3',\n",
    "}\n",
    "config = yaml.load(open(env_params['parm']+\".yaml\"), yaml.FullLoader)\n",
    "\n",
    "# pop优化算法参数\n",
    "pop_param = {\n",
    "    'pop_size':15,\n",
    "    'max_value':15,\n",
    "    'pc':0.6,\n",
    "    'pm':0.5,\n",
    "    'optstep':1000,\n",
    "}\n",
    "action_table = pd.read_csv(os.getcwd()+'\\\\SWMM\\\\action_table.csv').values[:,1:].tolist()"
   ]
  },
  {
   "cell_type": "markdown",
   "metadata": {},
   "source": [
    "## Test"
   ]
  },
  {
   "cell_type": "code",
   "execution_count": 17,
   "metadata": {},
   "outputs": [
    {
     "name": "stdout",
     "output_type": "stream",
     "text": [
      "0\n",
      "1\n",
      "2\n",
      "3\n",
      "4\n",
      "5\n",
      "6\n",
      "7\n",
      "8\n"
     ]
    },
    {
     "name": "stderr",
     "output_type": "stream",
     "text": [
      "d:\\Anaconda\\envs\\tensorflow-cpu\\lib\\site-packages\\joblib\\externals\\loky\\process_executor.py:752: UserWarning: A worker stopped while some jobs were given to the executor. This can be caused by a too short worker timeout or by a memory leak.\n",
      "  warnings.warn(\n",
      "d:\\Anaconda\\envs\\tensorflow-cpu\\lib\\site-packages\\joblib\\externals\\loky\\process_executor.py:752: UserWarning: A worker stopped while some jobs were given to the executor. This can be caused by a too short worker timeout or by a memory leak.\n",
      "  warnings.warn(\n"
     ]
    },
    {
     "name": "stdout",
     "output_type": "stream",
     "text": [
      "9\n",
      "10\n",
      "11\n",
      "12\n",
      "13\n",
      "14\n",
      "15\n",
      "16\n",
      "17\n"
     ]
    },
    {
     "name": "stderr",
     "output_type": "stream",
     "text": [
      "d:\\Anaconda\\envs\\tensorflow-cpu\\lib\\site-packages\\joblib\\externals\\loky\\process_executor.py:752: UserWarning: A worker stopped while some jobs were given to the executor. This can be caused by a too short worker timeout or by a memory leak.\n",
      "  warnings.warn(\n"
     ]
    },
    {
     "name": "stdout",
     "output_type": "stream",
     "text": [
      "18\n",
      "19\n",
      "20\n",
      "21\n",
      "22\n",
      "23\n",
      "24\n",
      "25\n",
      "26\n"
     ]
    },
    {
     "name": "stderr",
     "output_type": "stream",
     "text": [
      "d:\\Anaconda\\envs\\tensorflow-cpu\\lib\\site-packages\\joblib\\externals\\loky\\process_executor.py:752: UserWarning: A worker stopped while some jobs were given to the executor. This can be caused by a too short worker timeout or by a memory leak.\n",
      "  warnings.warn(\n",
      "d:\\Anaconda\\envs\\tensorflow-cpu\\lib\\site-packages\\joblib\\externals\\loky\\process_executor.py:752: UserWarning: A worker stopped while some jobs were given to the executor. This can be caused by a too short worker timeout or by a memory leak.\n",
      "  warnings.warn(\n"
     ]
    },
    {
     "name": "stdout",
     "output_type": "stream",
     "text": [
      "27\n",
      "28\n",
      "29\n",
      "30\n",
      "31\n",
      "32\n",
      "33\n",
      "34\n"
     ]
    },
    {
     "name": "stderr",
     "output_type": "stream",
     "text": [
      "d:\\Anaconda\\envs\\tensorflow-cpu\\lib\\site-packages\\joblib\\externals\\loky\\process_executor.py:752: UserWarning: A worker stopped while some jobs were given to the executor. This can be caused by a too short worker timeout or by a memory leak.\n",
      "  warnings.warn(\n"
     ]
    },
    {
     "name": "stdout",
     "output_type": "stream",
     "text": [
      "35\n",
      "36\n",
      "37\n",
      "38\n",
      "39\n",
      "40\n",
      "41\n",
      "42\n",
      "43\n",
      "44\n",
      "45\n",
      "46\n",
      "47\n",
      "48\n",
      "49\n",
      "50\n",
      "51\n",
      "52\n",
      "53\n",
      "54\n",
      "55\n",
      "56\n",
      "57\n",
      "58\n",
      "59\n",
      "60\n",
      "61\n",
      "62\n"
     ]
    },
    {
     "name": "stderr",
     "output_type": "stream",
     "text": [
      "d:\\Anaconda\\envs\\tensorflow-cpu\\lib\\site-packages\\joblib\\externals\\loky\\process_executor.py:752: UserWarning: A worker stopped while some jobs were given to the executor. This can be caused by a too short worker timeout or by a memory leak.\n",
      "  warnings.warn(\n",
      "d:\\Anaconda\\envs\\tensorflow-cpu\\lib\\site-packages\\joblib\\externals\\loky\\process_executor.py:752: UserWarning: A worker stopped while some jobs were given to the executor. This can be caused by a too short worker timeout or by a memory leak.\n",
      "  warnings.warn(\n",
      "d:\\Anaconda\\envs\\tensorflow-cpu\\lib\\site-packages\\joblib\\externals\\loky\\process_executor.py:752: UserWarning: A worker stopped while some jobs were given to the executor. This can be caused by a too short worker timeout or by a memory leak.\n",
      "  warnings.warn(\n"
     ]
    },
    {
     "name": "stdout",
     "output_type": "stream",
     "text": [
      "63\n",
      "64\n",
      "65\n",
      "66\n",
      "67\n",
      "68\n",
      "69\n",
      "70\n"
     ]
    },
    {
     "name": "stderr",
     "output_type": "stream",
     "text": [
      "d:\\Anaconda\\envs\\tensorflow-cpu\\lib\\site-packages\\joblib\\externals\\loky\\process_executor.py:752: UserWarning: A worker stopped while some jobs were given to the executor. This can be caused by a too short worker timeout or by a memory leak.\n",
      "  warnings.warn(\n",
      "d:\\Anaconda\\envs\\tensorflow-cpu\\lib\\site-packages\\joblib\\externals\\loky\\process_executor.py:752: UserWarning: A worker stopped while some jobs were given to the executor. This can be caused by a too short worker timeout or by a memory leak.\n",
      "  warnings.warn(\n"
     ]
    },
    {
     "name": "stdout",
     "output_type": "stream",
     "text": [
      "71\n",
      "72\n",
      "73\n",
      "74\n",
      "75\n",
      "76\n",
      "77\n",
      "78\n",
      "79\n"
     ]
    },
    {
     "name": "stderr",
     "output_type": "stream",
     "text": [
      "d:\\Anaconda\\envs\\tensorflow-cpu\\lib\\site-packages\\joblib\\externals\\loky\\process_executor.py:752: UserWarning: A worker stopped while some jobs were given to the executor. This can be caused by a too short worker timeout or by a memory leak.\n",
      "  warnings.warn(\n",
      "d:\\Anaconda\\envs\\tensorflow-cpu\\lib\\site-packages\\joblib\\externals\\loky\\process_executor.py:752: UserWarning: A worker stopped while some jobs were given to the executor. This can be caused by a too short worker timeout or by a memory leak.\n",
      "  warnings.warn(\n"
     ]
    },
    {
     "name": "stdout",
     "output_type": "stream",
     "text": [
      "80\n",
      "81\n",
      "82\n",
      "83\n",
      "84\n",
      "85\n",
      "86\n",
      "87\n",
      "88\n"
     ]
    },
    {
     "name": "stderr",
     "output_type": "stream",
     "text": [
      "d:\\Anaconda\\envs\\tensorflow-cpu\\lib\\site-packages\\joblib\\externals\\loky\\process_executor.py:752: UserWarning: A worker stopped while some jobs were given to the executor. This can be caused by a too short worker timeout or by a memory leak.\n",
      "  warnings.warn(\n"
     ]
    },
    {
     "name": "stdout",
     "output_type": "stream",
     "text": [
      "89\n"
     ]
    }
   ],
   "source": [
    "for i in range(90):\n",
    "    print(i)\n",
    "    optsys = MPC_sim(i,'design',env_params,pop_param,config)\n",
    "    optsys.reset(rules)\n",
    "    results = optsys.opt_mp()\n",
    "    np.save('./OPT_results/opt_results_rain'+str(i),results)"
   ]
  },
  {
   "cell_type": "markdown",
   "metadata": {},
   "source": [
    "# Benchmark BC control"
   ]
  },
  {
   "cell_type": "code",
   "execution_count": 28,
   "metadata": {},
   "outputs": [],
   "source": [
    "def save_BCaction(state):\n",
    "    action = []\n",
    "    for s in state:\n",
    "        atem=[1.0, 0.0, 0.0, 0.0, 1.0, 0.0]\n",
    "        if s[0] >= 0:\n",
    "            atem[1] = 0.2366\n",
    "            atem[2] = 0.6508\n",
    "            atem[3] = 0.3523\n",
    "            atem[5] = 0.4303\n",
    "        action.append(atem)\n",
    "\n",
    "    return action"
   ]
  },
  {
   "cell_type": "code",
   "execution_count": 29,
   "metadata": {},
   "outputs": [],
   "source": [
    "class BC_sim:\n",
    "\n",
    "    def __init__(self,rainid,rainname,env_params,pop_param,config):\n",
    "        self.rainid,self.rainname = rainid, rainname\n",
    "        self.action_table = pd.read_csv(os.getcwd()+'\\\\SWMM\\\\action_table.csv').values[:,1:]\n",
    "        self.env_params = env_params\n",
    "        self.pop_param = pop_param\n",
    "        self.config = config\n",
    "    \n",
    "    def reset(self):\n",
    "        # 初始化\n",
    "        inp = read_inp_file('./SWMM/Astlingen_SWMM.inp')\n",
    "        #加入降雨\n",
    "        for i in range(1,5):\n",
    "            inp[TIMESERIES]['rainfall'+str(i)]=TimeseriesData('rainfall'+str(i),raindata[str(i)][self.rainid])\n",
    "        \n",
    "        # 用于最终模拟的inp\n",
    "        inp.write_file('./SWMM/_temopt_original/BC/Astlingen_BC_' + self.rainname + str(self.rainid)+'.inp')\n",
    "\n",
    "\n",
    "    def opt_mp(self):\n",
    "        # 读取模型开始优化调整action\n",
    "        # 读取模拟,获取评分结果\n",
    "        results = {'CSO':[0], \n",
    "            'flooding':[0], \n",
    "            'inflow':[0],\n",
    "            'total_flooding_time':[0], \n",
    "            'total_CSO_time':[0],\n",
    "            'res':[0],\n",
    "            'state':[0],\n",
    "            'action':[0], \n",
    "            'rewards':[0],\n",
    "            'rewardSs':[0]\n",
    "        }\n",
    "        sim_tem = Simulation('./SWMM/_temopt_original/BC/Astlingen_BC_'+self.rainname+str(self.rainid)+'.inp')\n",
    "        sim_tem.start()\n",
    "        for step in range(95):\n",
    "            sim_tem._model.swmm_stride(self.env_params['advance_seconds'])\n",
    "            states,reward,results = step_results(sim_tem,self.config,self.env_params,results)\n",
    "        results['action']=save_BCaction(results['state'][1:])#BC记录T1水位反推action\n",
    "        sim_tem._model.swmm_end()\n",
    "        sim_tem._model.swmm_close()\n",
    "\n",
    "        return results"
   ]
  },
  {
   "cell_type": "code",
   "execution_count": 30,
   "metadata": {},
   "outputs": [],
   "source": [
    "for i in range(91):\n",
    "    optsys = BC_sim(i,'design',env_params,pop_param,config)\n",
    "    optsys.reset()\n",
    "    results = optsys.opt_mp()\n",
    "    np.save('./BC_results/bc_results_rain'+str(i),results)"
   ]
  },
  {
   "cell_type": "markdown",
   "metadata": {},
   "source": [
    "# Benchmark EFD control"
   ]
  },
  {
   "cell_type": "code",
   "execution_count": 25,
   "metadata": {},
   "outputs": [],
   "source": [
    "def save_EFDaction(states):\n",
    "    action = []\n",
    "    for state in states:\n",
    "        atem=[1.0, 0.0, 0.0, 0.0, 1.0, 0.0]\n",
    "        if (state[1] < 1) and (state[2] < 1) and (state[3] < 1) and (state[5] < 1):\n",
    "            atem[1] = 0.2366\n",
    "            atem[2] = 0.6508\n",
    "            atem[3] = 0.3523\n",
    "            atem[5] = 0.4303\n",
    "\n",
    "        if (state[1] > state[2]) and (state[1] > state[3]) and (state[1] > state[5]):\n",
    "            atem[1] = 1\n",
    "        else:\n",
    "            atem[1] = 0.2366\n",
    "\n",
    "        if (state[2] > state[1]) and (state[2] > state[3]) and (state[2] > state[5]):\n",
    "            atem[2] = 1\n",
    "        else:\n",
    "            atem[2] = 0.6508\n",
    "\n",
    "        if (state[3] > state[1]) and (state[3] > state[2]) and (state[3] > state[5]):\n",
    "            atem[3] = 1\n",
    "        else:\n",
    "            atem[3] = 0.3523\n",
    "\n",
    "        if (state[5] > state[1]) and (state[5] > state[2]) and (state[5] > state[5]):\n",
    "            atem[5] = 1\n",
    "        else:\n",
    "            atem[5] = 0.4303\n",
    "\n",
    "        if (state[1] < state[2]) and (state[1] < state[3]) and (state[1] < state[5]):\n",
    "            atem[1] = 0.1075\n",
    "        else:\n",
    "            atem[1] = 0.2366\n",
    "\n",
    "        if (state[2] < state[1]) and (state[2] < state[3]) and (state[2] < state[5]):\n",
    "            atem[2] = 0.3159\n",
    "        else:\n",
    "            atem[2] = 0.6508\n",
    "        \n",
    "        if (state[3] < state[1]) and (state[3] < state[2]) and (state[3] < state[5]):\n",
    "            atem[2] = 0.1894\n",
    "        else:\n",
    "            atem[2] = 0.3523\n",
    "\n",
    "        if (state[5] < state[1]) and (state[5] < state[2]) and (state[5] < state[3]):\n",
    "            atem[2] = 0.1687\n",
    "        else:\n",
    "            atem[2] = 0.4303\n",
    "\n",
    "        action.append(atem)\n",
    "\n",
    "    return action"
   ]
  },
  {
   "cell_type": "code",
   "execution_count": 26,
   "metadata": {},
   "outputs": [],
   "source": [
    "class EFD_sim:\n",
    "\n",
    "    def __init__(self,rainid,rainname,env_params,pop_param,config):\n",
    "        self.rainid,self.rainname = rainid, rainname\n",
    "        self.action_table = pd.read_csv(os.getcwd()+'\\\\SWMM\\\\action_table.csv').values[:,1:]\n",
    "        self.env_params = env_params\n",
    "        self.pop_param = pop_param\n",
    "        self.config = config\n",
    "    \n",
    "    def reset(self):\n",
    "        # 初始化\n",
    "        inp = read_inp_file('./SWMM/EFD_Astlingen_SWMM.inp')\n",
    "        #加入降雨\n",
    "        for i in range(1,5):\n",
    "            inp[TIMESERIES]['rainfall'+str(i)]=TimeseriesData('rainfall'+str(i),raindata[str(i)][self.rainid])\n",
    "        # 用于最终模拟的inp\n",
    "        inp.write_file('./SWMM/_temopt_original/EFD/chaohu_EFD_' + self.rainname + str(self.rainid)+'.inp')\n",
    "\n",
    "    def opt_mp(self):\n",
    "        # 读取模型开始优化调整action\n",
    "        # 读取模拟,获取评分结果\n",
    "        results = {'CSO':[0], \n",
    "            'flooding':[0], \n",
    "            'inflow':[0],\n",
    "            'total_flooding_time':[0], \n",
    "            'total_CSO_time':[0],\n",
    "            'res':[0],\n",
    "            'state':[0],\n",
    "            'action':[0], \n",
    "            'rewards':[0],\n",
    "            'rewardSs':[0]\n",
    "        }\n",
    "        sim_tem = Simulation('./SWMM/_temopt_original/EFD/chaohu_EFD_'+self.rainname+str(self.rainid)+'.inp')\n",
    "        sim_tem.start()\n",
    "        for step in range(95):\n",
    "            sim_tem._model.swmm_stride(self.env_params['advance_seconds'])\n",
    "            states,reward,results = step_results(sim_tem,self.config,self.env_params,results)\n",
    "        results['action']=save_EFDaction(results['state'][1:])#EFD记录T1水位反推action\n",
    "        sim_tem._model.swmm_end()\n",
    "        sim_tem._model.swmm_close()\n",
    "\n",
    "        return results"
   ]
  },
  {
   "cell_type": "code",
   "execution_count": 27,
   "metadata": {},
   "outputs": [],
   "source": [
    "for i in range(91):\n",
    "    optsys = EFD_sim(i,'design',env_params,pop_param,config)\n",
    "    optsys.reset()\n",
    "    results = optsys.opt_mp()\n",
    "    np.save('./EFD_results/efd_results_rain'+str(i),results)"
   ]
  },
  {
   "cell_type": "markdown",
   "metadata": {},
   "source": [
    "# Compare"
   ]
  },
  {
   "cell_type": "code",
   "execution_count": 35,
   "metadata": {},
   "outputs": [
    {
     "data": {
      "text/plain": [
       "<matplotlib.legend.Legend at 0x201f946d370>"
      ]
     },
     "execution_count": 35,
     "metadata": {},
     "output_type": "execute_result"
    },
    {
     "data": {
      "image/png": "[encoded data removed]",
      "text/plain": [
       "<Figure size 640x480 with 2 Axes>"
      ]
     },
     "metadata": {},
     "output_type": "display_data"
    }
   ],
   "source": [
    "rainid = '61'\n",
    "re = np.load('./OPT_results/opt_results_rain'+rainid+'.npy',allow_pickle=True).tolist()\n",
    "reb = np.load('./BC_results/bc_results_rain'+rainid+'.npy',allow_pickle=True).tolist()\n",
    "ree = np.load('./EFD_results/efd_results_rain'+rainid+'.npy',allow_pickle=True).tolist()\n",
    "figs,ax = plt.subplots(2,1)\n",
    "ax[0].plot(re['flooding'],'r',label='opt')\n",
    "ax[0].plot(reb['flooding'],label='bc')\n",
    "ax[0].plot(ree['flooding'],label='efd')\n",
    "ax[0].legend()\n",
    "ax[1].plot(re['rewards'],'r',label='opt')\n",
    "ax[1].plot(reb['rewards'],label='bc')\n",
    "ax[1].plot(ree['rewards'],label='efd')\n",
    "ax[1].legend()"
   ]
  }
 ],
 "metadata": {
  "kernelspec": {
   "display_name": "tensorflow-cpu",
   "language": "python",
   "name": "python3"
  },
  "language_info": {
   "codemirror_mode": {
    "name": "ipython",
    "version": 3
   },
   "file_extension": ".py",
   "mimetype": "text/x-python",
   "name": "python",
   "nbconvert_exporter": "python",
   "pygments_lexer": "ipython3",
   "version": "3.9.19"
  }
 },
 "nbformat": 4,
 "nbformat_minor": 2
}
