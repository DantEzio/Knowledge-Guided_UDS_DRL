{
 "cells": [
  {
   "cell_type": "code",
   "execution_count": 2,
   "metadata": {},
   "outputs": [],
   "source": [
    "import numpy as np\n",
    "import pandas as pd"
   ]
  },
  {
   "cell_type": "code",
   "execution_count": 2,
   "metadata": {},
   "outputs": [],
   "source": [
    "table=[]\n",
    "for i1 in [1]:\n",
    "    for i2 in [0.1075,0.1687,0.2232,0.2366]:\n",
    "        for i3 in [0.3159,0.3523,0.4303,0.6508]:\n",
    "            for i4 in [0.1894,0.2343,0.3021,0.3523]:\n",
    "                for i5 in [1]:\n",
    "                    for i6 in [0.1687,0.1894,0.3523,0.4303]:\n",
    "                        tem = [i1,i2,i3,i4,i5,i6]\n",
    "                        table.append(tem)\n",
    "                            \n",
    "table = np.array(table)\n",
    "pd.DataFrame(table).to_csv('action_table.csv')"
   ]
  },
  {
   "cell_type": "code",
   "execution_count": 3,
   "metadata": {},
   "outputs": [],
   "source": [
    "# For unsafe DRL\n",
    "table=[]\n",
    "for i1 in [1]:\n",
    "    for i2 in [i/5 for i in range(5)]:\n",
    "        for i3 in [i/5 for i in range(5)]:\n",
    "            for i4 in [i/5 for i in range(5)]:\n",
    "                for i5 in [1]:\n",
    "                    for i6 in [i/5 for i in range(5)]:\n",
    "                        tem = [i1,i2,i3,i4,i5,i6]\n",
    "                        table.append(tem)\n",
    "                            \n",
    "table = np.array(table)\n",
    "pd.DataFrame(table).to_csv('action_table.csv')"
   ]
  }
 ],
 "metadata": {
  "kernelspec": {
   "display_name": "tensorflow-cpu",
   "language": "python",
   "name": "python3"
  },
  "language_info": {
   "codemirror_mode": {
    "name": "ipython",
    "version": 3
   },
   "file_extension": ".py",
   "mimetype": "text/x-python",
   "name": "python",
   "nbconvert_exporter": "python",
   "pygments_lexer": "ipython3",
   "version": "3.9.19"
  }
 },
 "nbformat": 4,
 "nbformat_minor": 2
}
